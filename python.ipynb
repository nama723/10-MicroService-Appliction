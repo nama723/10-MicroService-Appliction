{
  "nbformat": 4,
  "nbformat_minor": 0,
  "metadata": {
    "colab": {
      "provenance": [],
      "authorship_tag": "ABX9TyMibD7VJq/DknRfU7N28TMY",
      "include_colab_link": true
    },
    "kernelspec": {
      "name": "python3",
      "display_name": "Python 3"
    },
    "language_info": {
      "name": "python"
    }
  },
  "cells": [
    {
      "cell_type": "markdown",
      "metadata": {
        "id": "view-in-github",
        "colab_type": "text"
      },
      "source": [
        "<a href=\"https://colab.research.google.com/github/nama723/10-MicroService-Appliction/blob/main/python.ipynb\" target=\"_parent\"><img src=\"https://colab.research.google.com/assets/colab-badge.svg\" alt=\"Open In Colab\"/></a>"
      ]
    },
    {
      "cell_type": "code",
      "execution_count": null,
      "metadata": {
        "colab": {
          "base_uri": "https://localhost:8080/"
        },
        "id": "7nROINIegXdU",
        "outputId": "5ae8114c-c5cb-433e-9f01-aa7fb3bbe20b"
      },
      "outputs": [
        {
          "output_type": "stream",
          "name": "stdout",
          "text": [
            "false\n"
          ]
        }
      ],
      "source": []
    },
    {
      "cell_type": "code",
      "source": [
        "x = int(input())\n",
        "y = int(input())\n",
        "z = int(input())\n",
        "print(max(x,y,z))"
      ],
      "metadata": {
        "colab": {
          "base_uri": "https://localhost:8080/"
        },
        "id": "msnAOwTojrRr",
        "outputId": "f88eeef9-7123-4d53-fa66-816cb3910d61"
      },
      "execution_count": null,
      "outputs": [
        {
          "output_type": "stream",
          "name": "stdout",
          "text": [
            "2\n",
            "3\n",
            "5\n",
            "5\n"
          ]
        }
      ]
    },
    {
      "cell_type": "code",
      "source": [
        "i=1\n",
        "while i<=5:\n",
        "  print(\"namanaresh\")\n",
        "  i=i+1"
      ],
      "metadata": {
        "colab": {
          "base_uri": "https://localhost:8080/"
        },
        "id": "ubNQh6eGuQXb",
        "outputId": "3a8a2ce7-53e5-4d1a-d9bc-6323f8f3519c"
      },
      "execution_count": null,
      "outputs": [
        {
          "output_type": "stream",
          "name": "stdout",
          "text": [
            "namanaresh\n",
            "namanaresh\n",
            "namanaresh\n",
            "namanaresh\n",
            "namanaresh\n"
          ]
        }
      ]
    },
    {
      "cell_type": "code",
      "source": [
        "i=1\n",
        "while i<=2:\n",
        "  print(i)\n",
        "  i=i+1"
      ],
      "metadata": {
        "colab": {
          "base_uri": "https://localhost:8080/"
        },
        "id": "GCJvXL57VYjI",
        "outputId": "23c4113d-dd96-4249-cc41-20edba711b66"
      },
      "execution_count": null,
      "outputs": [
        {
          "output_type": "stream",
          "name": "stdout",
          "text": [
            "1\n",
            "2\n"
          ]
        }
      ]
    },
    {
      "cell_type": "code",
      "source": [
        "x=int(input())\n",
        "\n",
        "i=1\n",
        "while i<=x:\n",
        "  print(\"candy\")\n",
        "  i=i+1"
      ],
      "metadata": {
        "colab": {
          "base_uri": "https://localhost:8080/"
        },
        "id": "MHPwUY7pdRC0",
        "outputId": "4eea696f-23e0-4c9c-ecd2-cb6c69481714"
      },
      "execution_count": null,
      "outputs": [
        {
          "output_type": "stream",
          "name": "stdout",
          "text": [
            "3\n",
            "candy\n",
            "candy\n",
            "candy\n"
          ]
        }
      ]
    },
    {
      "cell_type": "code",
      "source": [
        "i=1\n",
        "while i**2<=500:\n",
        "  print(i**2)\n",
        "  i=i+1"
      ],
      "metadata": {
        "colab": {
          "base_uri": "https://localhost:8080/"
        },
        "id": "hXhGIdz4d8DC",
        "outputId": "858bafbe-9922-4894-ae8a-2f3436e8c577"
      },
      "execution_count": null,
      "outputs": [
        {
          "output_type": "stream",
          "name": "stdout",
          "text": [
            "1\n",
            "4\n",
            "9\n",
            "16\n",
            "25\n",
            "36\n",
            "49\n",
            "64\n",
            "81\n",
            "100\n",
            "121\n",
            "144\n",
            "169\n",
            "196\n",
            "225\n",
            "256\n",
            "289\n",
            "324\n",
            "361\n",
            "400\n",
            "441\n",
            "484\n"
          ]
        }
      ]
    },
    {
      "cell_type": "code",
      "source": [
        "av=4\n",
        "x=int(input())\n",
        "i=1\n",
        "while i<=x:\n",
        "  if i>=av:\n",
        "    break #here break means we are getting out of the loop\n",
        "  print('candy')\n",
        "  i=i+1\n",
        "print('by')"
      ],
      "metadata": {
        "colab": {
          "base_uri": "https://localhost:8080/"
        },
        "id": "hsEpBItvfKXm",
        "outputId": "b6125250-7545-4dd7-ba41-ab28c4067f24"
      },
      "execution_count": null,
      "outputs": [
        {
          "output_type": "stream",
          "name": "stdout",
          "text": [
            "3\n",
            "candy\n",
            "candy\n",
            "candy\n",
            "by\n"
          ]
        }
      ]
    },
    {
      "cell_type": "code",
      "source": [
        "#print the numbers from 1 to 100 and skip the odd numbers\n",
        "for i in range(1,101):\n",
        "  if i%2==1:\n",
        "    continue #continue means skipping that part or that iteration\n",
        "  print(i)"
      ],
      "metadata": {
        "colab": {
          "base_uri": "https://localhost:8080/"
        },
        "id": "u15_XvrPh-HY",
        "outputId": "950a41f2-3cd0-4b04-d4c0-33055e84954f"
      },
      "execution_count": null,
      "outputs": [
        {
          "output_type": "stream",
          "name": "stdout",
          "text": [
            "2\n",
            "4\n",
            "6\n",
            "8\n",
            "10\n",
            "12\n",
            "14\n",
            "16\n",
            "18\n",
            "20\n",
            "22\n",
            "24\n",
            "26\n",
            "28\n",
            "30\n",
            "32\n",
            "34\n",
            "36\n",
            "38\n",
            "40\n",
            "42\n",
            "44\n",
            "46\n",
            "48\n",
            "50\n",
            "52\n",
            "54\n",
            "56\n",
            "58\n",
            "60\n",
            "62\n",
            "64\n",
            "66\n",
            "68\n",
            "70\n",
            "72\n",
            "74\n",
            "76\n",
            "78\n",
            "80\n",
            "82\n",
            "84\n",
            "86\n",
            "88\n",
            "90\n",
            "92\n",
            "94\n",
            "96\n",
            "98\n",
            "100\n"
          ]
        }
      ]
    },
    {
      "cell_type": "code",
      "source": [
        "#check given number is even or odd.\n",
        "x=int(input())\n",
        "if x%2==0:\n",
        "  print('even')\n",
        "else:\n",
        "  print('odd')"
      ],
      "metadata": {
        "colab": {
          "base_uri": "https://localhost:8080/"
        },
        "id": "VaawCaeWjscu",
        "outputId": "f971b67b-35f8-4df0-ecd6-8b34c368e99a"
      },
      "execution_count": null,
      "outputs": [
        {
          "output_type": "stream",
          "name": "stdout",
          "text": [
            "13\n",
            "odd\n"
          ]
        }
      ]
    },
    {
      "cell_type": "code",
      "source": [
        "for i in range(4):\n",
        "  for j in range(4):\n",
        "    print(\"#\",end=\"\")\n",
        "  print()\n"
      ],
      "metadata": {
        "colab": {
          "base_uri": "https://localhost:8080/"
        },
        "id": "lVaKX-Yol3PD",
        "outputId": "04e70faf-2bd6-4650-a847-e43d4ec1bec6"
      },
      "execution_count": null,
      "outputs": [
        {
          "output_type": "stream",
          "name": "stdout",
          "text": [
            "####\n",
            "####\n",
            "####\n",
            "####\n"
          ]
        }
      ]
    },
    {
      "cell_type": "code",
      "source": [
        "#print the numbers from 1 to 100 and skip the numbers which are divisible by 2.\n",
        "for i in range(1,101):\n",
        "  if i%2==0:\n",
        "    continue #continue ==skip that iteration\n",
        "  print(i)"
      ],
      "metadata": {
        "id": "8gGxeg47f9Qq"
      },
      "execution_count": null,
      "outputs": []
    },
    {
      "cell_type": "code",
      "source": [
        "# printing pattern\n",
        "for i in range(4):\n",
        "  for j in range(i+1):\n",
        "    print('#',end=\"\")\n",
        "  print()"
      ],
      "metadata": {
        "colab": {
          "base_uri": "https://localhost:8080/"
        },
        "id": "scpGfy-UqlMk",
        "outputId": "6f029fc1-3e4c-4aff-8317-ec29e0ed2deb"
      },
      "execution_count": null,
      "outputs": [
        {
          "output_type": "stream",
          "name": "stdout",
          "text": [
            "#\n",
            "##\n",
            "###\n",
            "####\n"
          ]
        }
      ]
    },
    {
      "cell_type": "code",
      "source": [],
      "metadata": {
        "id": "FTXGYW-8saeW"
      },
      "execution_count": null,
      "outputs": []
    },
    {
      "cell_type": "code",
      "source": [
        "# printing pattern\n",
        "for i in range(4):\n",
        "  for j in range(4-i):\n",
        "    print('#',end=\"\")\n",
        "  print()"
      ],
      "metadata": {
        "colab": {
          "base_uri": "https://localhost:8080/"
        },
        "outputId": "2739ae6c-9e28-4515-f835-a2ebecb684e1",
        "id": "GlRrEVDJshAQ"
      },
      "execution_count": null,
      "outputs": [
        {
          "output_type": "stream",
          "name": "stdout",
          "text": [
            "####\n",
            "###\n",
            "##\n",
            "#\n"
          ]
        }
      ]
    },
    {
      "cell_type": "code",
      "source": [
        "#array user inputs.\n",
        "from array import *\n",
        "int_array=array('i',[])\n",
        "n=int(input(\"enter the length of the array\"))\n",
        "\n",
        "for i in range(n):\n",
        "  x=int(input('enter the value of array'))\n",
        "  int_array.append(x)\n",
        "\n",
        "print(int_array)\n",
        "\n",
        "k=int(input('enter the index value'))\n",
        "if k in int_array:\n",
        "     print (int_array.index(k))\n",
        "\n",
        "\n",
        "\n"
      ],
      "metadata": {
        "colab": {
          "base_uri": "https://localhost:8080/"
        },
        "id": "tjohdYeh2hiL",
        "outputId": "57ae141b-26b3-455e-d875-ee67f52e9946"
      },
      "execution_count": null,
      "outputs": [
        {
          "output_type": "stream",
          "name": "stdout",
          "text": [
            "enter the length of the array2\n",
            "enter the value of array23\n",
            "enter the value of array43\n",
            "array('i', [23, 43])\n",
            "enter the index value43\n",
            "1\n"
          ]
        }
      ]
    },
    {
      "cell_type": "code",
      "source": [
        "#print all the even numbers from 1 to 20\n",
        "for i in range(1,21):\n",
        "  if i%2!=0:\n",
        "    continue\n",
        "  print(i)"
      ],
      "metadata": {
        "colab": {
          "base_uri": "https://localhost:8080/"
        },
        "id": "5xB_qTYaNtSn",
        "outputId": "1dc148ad-eaf4-4da1-e81e-eb1330d874cb"
      },
      "execution_count": null,
      "outputs": [
        {
          "output_type": "stream",
          "name": "stdout",
          "text": [
            "2\n",
            "4\n",
            "6\n",
            "8\n",
            "10\n",
            "12\n",
            "14\n",
            "16\n",
            "18\n",
            "20\n"
          ]
        }
      ]
    },
    {
      "cell_type": "code",
      "source": [
        "#check the given number is prime or not\n",
        "num=int(input(\"enter your number\"))\n",
        "for i in range(2,num):\n",
        "  if num%i==0:\n",
        "    print(\"not prime\")\n",
        "    break\n",
        "else:\n",
        "  print(\"prime\")\n"
      ],
      "metadata": {
        "id": "4mBkNIDzZIOz",
        "colab": {
          "base_uri": "https://localhost:8080/"
        },
        "outputId": "485f2a85-15d0-4c3c-f425-e540efa758f5"
      },
      "execution_count": null,
      "outputs": [
        {
          "output_type": "stream",
          "name": "stdout",
          "text": [
            "enter your number49\n",
            "not prime\n"
          ]
        }
      ]
    },
    {
      "cell_type": "code",
      "source": [
        "#print patterns\n",
        "for i in range (0,4):\n",
        "  for e in range (0,4-i):\n",
        "    print('*',end=\"\")\n",
        "  print()\n"
      ],
      "metadata": {
        "colab": {
          "base_uri": "https://localhost:8080/"
        },
        "id": "mc49QPw3sYss",
        "outputId": "43dc5112-1384-47fc-9b8a-a6547f1a66e8"
      },
      "execution_count": null,
      "outputs": [
        {
          "output_type": "stream",
          "name": "stdout",
          "text": [
            "****\n",
            "***\n",
            "**\n",
            "*\n"
          ]
        }
      ]
    },
    {
      "cell_type": "code",
      "source": [
        "#palyndrome\n",
        "usr=input()\n",
        "if usr==usr[::-1]:\n",
        "  print(\"paly\")\n",
        "else:\n",
        "  print(\"false\")"
      ],
      "metadata": {
        "colab": {
          "base_uri": "https://localhost:8080/"
        },
        "id": "16G1GqHx1x6S",
        "outputId": "d0280183-a05f-400a-e526-566ef106f6e4"
      },
      "execution_count": 4,
      "outputs": [
        {
          "output_type": "stream",
          "name": "stdout",
          "text": [
            "nan\n",
            "paly\n"
          ]
        }
      ]
    },
    {
      "cell_type": "code",
      "source": [
        "#slicing\n",
        "a=\"namanaresh\"\n",
        "print(a[-1:1])"
      ],
      "metadata": {
        "colab": {
          "base_uri": "https://localhost:8080/"
        },
        "id": "eL32R1CP2rjc",
        "outputId": "79e96fae-3887-42a7-fc86-f3c67a2f4b48"
      },
      "execution_count": 17,
      "outputs": [
        {
          "output_type": "stream",
          "name": "stdout",
          "text": [
            "\n"
          ]
        }
      ]
    },
    {
      "cell_type": "code",
      "source": [
        "d=input()\n",
        "c=len(d)\n",
        "if c>10:\n",
        "  if a in d:\n",
        "   print(\"yes\")\n",
        "else:\n",
        "  print(\"no\")"
      ],
      "metadata": {
        "colab": {
          "base_uri": "https://localhost:8080/"
        },
        "id": "qktc1YH84uu8",
        "outputId": "3d877ebb-fc2e-4dae-fe42-dc56d8dac693"
      },
      "execution_count": 33,
      "outputs": [
        {
          "name": "stdout",
          "output_type": "stream",
          "text": [
            "baburaomastan\n"
          ]
        }
      ]
    },
    {
      "cell_type": "code",
      "source": [
        "from array import*\n",
        "n=int(input('enter the length of the array'))\n",
        "int_array=array('i',[])\n",
        "for i in range (n):\n",
        "  i=int(input('enter the value of the array'))\n",
        "  int_array.append(i)\n",
        "print(int_array)\n",
        "k=int(input('enter your choice'))\n",
        "if k in int_array:\n",
        " print(int_array.index(k))"
      ],
      "metadata": {
        "colab": {
          "base_uri": "https://localhost:8080/"
        },
        "id": "zvwI3heO9ecB",
        "outputId": "fee0369e-18bf-430a-9a1f-42282e73594d"
      },
      "execution_count": 44,
      "outputs": [
        {
          "output_type": "stream",
          "name": "stdout",
          "text": [
            "enter the length of the array3\n",
            "enter the value of the array45\n",
            "enter the value of the array43\n",
            "enter the value of the array42\n",
            "array('i', [45, 43, 42])\n",
            "enter your choice43\n",
            "1\n"
          ]
        }
      ]
    },
    {
      "cell_type": "code",
      "source": [
        "num=int(input('enter a integer'))\n",
        "for i in range(2,num):\n",
        "  if num%i==0:\n",
        "    print('not prime')\n",
        "    break\n",
        "else:\n",
        "  print('prime')\n"
      ],
      "metadata": {
        "colab": {
          "base_uri": "https://localhost:8080/"
        },
        "id": "lee7pDRiANZs",
        "outputId": "217815ed-c39f-4798-e3be-db45185e73d5"
      },
      "execution_count": 48,
      "outputs": [
        {
          "output_type": "stream",
          "name": "stdout",
          "text": [
            "enter a integer56\n",
            "not prime\n"
          ]
        }
      ]
    },
    {
      "cell_type": "code",
      "source": [
        "string=input()\n",
        "if 'yes' in string:\n",
        "  print(\"yes\")\n",
        "else:\n",
        "  print('thanks')"
      ],
      "metadata": {
        "colab": {
          "base_uri": "https://localhost:8080/"
        },
        "id": "erKSJu9_BNJK",
        "outputId": "f616303d-9aca-4c6e-f4df-da48d651312b"
      },
      "execution_count": 52,
      "outputs": [
        {
          "output_type": "stream",
          "name": "stdout",
          "text": [
            "yesu\n",
            "yes\n"
          ]
        }
      ]
    },
    {
      "cell_type": "code",
      "source": [],
      "metadata": {
        "id": "tfVQuwlxBzeY"
      },
      "execution_count": null,
      "outputs": []
    }
  ]
}